{
 "cells": [
  {
   "cell_type": "markdown",
   "metadata": {},
   "source": [
    "# VacationPy\n",
    "----\n",
    "\n",
    "#### Note\n",
    "* Keep an eye on your API usage. Use https://developers.google.com/maps/reporting/gmp-reporting as reference for how to monitor your usage and billing.\n",
    "\n",
    "* Instructions have been included for each segment. You do not have to follow them exactly, but they are included to help you think through the steps."
   ]
  },
  {
   "cell_type": "code",
   "execution_count": 1,
   "metadata": {},
   "outputs": [],
   "source": [
    "# Dependencies and Setup\n",
    "import matplotlib.pyplot as plt\n",
    "import pandas as pd\n",
    "import numpy as np\n",
    "import requests\n",
    "import gmaps\n",
    "import os\n",
    "import json\n",
    "import pprint\n",
    "import scipy.stats as st\n",
    "\n",
    "# Import API key\n",
    "from api_keys import g_key"
   ]
  },
  {
   "cell_type": "markdown",
   "metadata": {},
   "source": [
    "### Store Part I results into DataFrame\n",
    "* Load the csv exported in Part I to a DataFrame"
   ]
  },
  {
   "cell_type": "code",
   "execution_count": 2,
   "metadata": {},
   "outputs": [
    {
     "name": "stdout",
     "output_type": "stream",
     "text": [
      "           City    Lat     Lon  Max Temp  Humidity  Cloudiness  Wind Speed  \\\n",
      "0         Pisco -13.70  -76.22     63.00        82           0       13.87   \n",
      "1        Lompoc  34.64 -120.46     64.99        52           1        6.85   \n",
      "2        Faanui -16.48 -151.75     78.46        80           4       11.86   \n",
      "3  Norman Wells  65.28 -126.83     23.00        67          75        3.36   \n",
      "4  Ponta do Sol  32.67  -17.10     69.80        73          20       16.11   \n",
      "\n",
      "  County        Date  \n",
      "0     PE  1602560253  \n",
      "1     US  1602560096  \n",
      "2     PF  1602560254  \n",
      "3     CA  1602560254  \n",
      "4     PT  1602560254  \n"
     ]
    }
   ],
   "source": [
    "loadPath = '../WeatherPy/weather_data.csv'\n",
    "\n",
    "weatherFrame = pd.read_csv(loadPath)\n",
    "\n",
    "print(weatherFrame.head())"
   ]
  },
  {
   "cell_type": "markdown",
   "metadata": {},
   "source": [
    "### Humidity Heatmap\n",
    "* Configure gmaps.\n",
    "* Use the Lat and Lng as locations and Humidity as the weight.\n",
    "* Add Heatmap layer to map."
   ]
  },
  {
   "cell_type": "code",
   "execution_count": 3,
   "metadata": {},
   "outputs": [
    {
     "name": "stdout",
     "output_type": "stream",
     "text": [
      "     Lat     Lon  Humidity\n",
      "0 -13.70  -76.22        82\n",
      "1  34.64 -120.46        52\n",
      "2 -16.48 -151.75        80\n",
      "3  65.28 -126.83        67\n",
      "4  32.67  -17.10        73\n"
     ]
    }
   ],
   "source": [
    "gmaps.configure(api_key=g_key)\n",
    "\n",
    "humidityFrame = weatherFrame[['Lat', 'Lon', 'Humidity']]\n",
    "\n",
    "locations = humidityFrame[['Lat', 'Lon']]\n",
    "weights = humidityFrame['Humidity']\n",
    "\n",
    "print(humidityFrame.head())"
   ]
  },
  {
   "cell_type": "code",
   "execution_count": 5,
   "metadata": {},
   "outputs": [
    {
     "data": {
      "application/vnd.jupyter.widget-view+json": {
       "model_id": "aef4f0f549434180becec61d8f144f4f",
       "version_major": 2,
       "version_minor": 0
      },
      "text/plain": [
       "Figure(layout=FigureLayout(height='420px'))"
      ]
     },
     "metadata": {},
     "output_type": "display_data"
    }
   ],
   "source": [
    "fig = gmaps.figure()\n",
    "fig.add_layer(gmaps.heatmap_layer(locations, weights=weights))\n",
    "fig"
   ]
  },
  {
   "cell_type": "markdown",
   "metadata": {},
   "source": [
    "### Create new DataFrame fitting weather criteria\n",
    "* Narrow down the cities to fit weather conditions.\n",
    "* Drop any rows will null values."
   ]
  },
  {
   "cell_type": "code",
   "execution_count": 15,
   "metadata": {},
   "outputs": [
    {
     "name": "stdout",
     "output_type": "stream",
     "text": [
      "10\n"
     ]
    }
   ],
   "source": [
    "narrowedWeatherData = weatherFrame.loc[(weatherFrame['Humidity'] < 40) & (weatherFrame['Cloudiness'] < 20) & (weatherFrame['Max Temp'] < 85) & (weatherFrame['Max Temp'] > 70) & (weatherFrame['Wind Speed'] < 10)]\n",
    "\n",
    "print(len(narrowedWeatherData))"
   ]
  },
  {
   "cell_type": "markdown",
   "metadata": {},
   "source": [
    "### Hotel Map\n",
    "* Store into variable named `hotel_df`.\n",
    "* Add a \"Hotel Name\" column to the DataFrame.\n",
    "* Set parameters to search for hotels with 5000 meters.\n",
    "* Hit the Google Places API for each city's coordinates.\n",
    "* Store the first Hotel result into the DataFrame.\n",
    "* Plot markers on top of the heatmap."
   ]
  },
  {
   "cell_type": "code",
   "execution_count": 29,
   "metadata": {},
   "outputs": [
    {
     "name": "stdout",
     "output_type": "stream",
     "text": [
      "                      City    Lat     Lon  Max Temp  Humidity  Cloudiness  \\\n",
      "58               Taoudenni  22.68   -3.98     82.89        21           0   \n",
      "107           Saint George  37.10 -113.58     73.40        17           1   \n",
      "196               Flinders -34.58  150.86     84.99        39           3   \n",
      "211  Los Llanos de Aridane  28.66  -17.92     77.00        38           6   \n",
      "239                Magaria  13.00    8.91     82.49        20           0   \n",
      "\n",
      "     Wind Speed County        Date Hotel Name  \n",
      "58         1.30     ML  1602560268             \n",
      "107        5.82     US  1602560248             \n",
      "196        4.00     AU  1602560302             \n",
      "211        8.05     ES  1602560305             \n",
      "239        7.87     NE  1602560311             \n"
     ]
    }
   ],
   "source": [
    "hotel_df = narrowedWeatherData\n",
    "\n",
    "hotel_df['Hotel Name']\n",
    "\n",
    "print(hotel_df.head())"
   ]
  },
  {
   "cell_type": "code",
   "execution_count": 50,
   "metadata": {
    "scrolled": true
   },
   "outputs": [
    {
     "name": "stdout",
     "output_type": "stream",
     "text": [
      "Best Western Plus Abbey Inn\n",
      "Shellharbour Resort & Conference Centre\n",
      "Valle Aridane\n",
      "Chez Honorable Chapiou\n",
      "Hotel Rural El Patio\n",
      "Eaka Hotel Hengshui Railway Station Branch\n",
      "Expeditions Ténére voyages\n",
      "                      City    Lat     Lon  Max Temp  Humidity  Cloudiness  \\\n",
      "58               Taoudenni  22.68   -3.98     82.89        21           0   \n",
      "107           Saint George  37.10 -113.58     73.40        17           1   \n",
      "196               Flinders -34.58  150.86     84.99        39           3   \n",
      "211  Los Llanos de Aridane  28.66  -17.92     77.00        38           6   \n",
      "239                Magaria  13.00    8.91     82.49        20           0   \n",
      "\n",
      "     Wind Speed County        Date                               Hotel Name  \n",
      "58         1.30     ML  1602560268               No Accomodations Available  \n",
      "107        5.82     US  1602560248              Best Western Plus Abbey Inn  \n",
      "196        4.00     AU  1602560302  Shellharbour Resort & Conference Centre  \n",
      "211        8.05     ES  1602560305                            Valle Aridane  \n",
      "239        7.87     NE  1602560311                   Chez Honorable Chapiou  \n"
     ]
    }
   ],
   "source": [
    "gApiString = 'https://maps.googleapis.com/maps/api/place/nearbysearch/json?'\n",
    "pp = pprint.PrettyPrinter(depth=6)\n",
    "finalTable = hotel_df\n",
    "\n",
    "for index, row in hotel_df.iterrows():\n",
    "    gApiString = 'https://maps.googleapis.com/maps/api/place/nearbysearch/json?location={Lat},{Lon}&radius=5000&type=lodging&key={api}'\n",
    "    \n",
    "    hotel_response = requests.get(gApiString.format(Lat=row.Lat, Lon=row.Lon, api=g_key))\n",
    "    hotel_json = hotel_response.json()\n",
    "    \n",
    "    if len(hotel_json['results']) > 0:\n",
    "        hotelName = hotel_json['results'][0]['name']\n",
    "        print(hotelName)\n",
    "        finalTable.at[index, 'Hotel Name'] = hotelName\n",
    "    else:\n",
    "        finalTable.at[index, 'Hotel Name'] = 'No Accomodations Available'\n",
    "    \n",
    "pp.pprint(finalTable.head())"
   ]
  },
  {
   "cell_type": "code",
   "execution_count": 51,
   "metadata": {},
   "outputs": [
    {
     "name": "stdout",
     "output_type": "stream",
     "text": [
      "                      City    Lat     Lon  Max Temp  Humidity  Cloudiness  \\\n",
      "58               Taoudenni  22.68   -3.98     82.89        21           0   \n",
      "107           Saint George  37.10 -113.58     73.40        17           1   \n",
      "196               Flinders -34.58  150.86     84.99        39           3   \n",
      "211  Los Llanos de Aridane  28.66  -17.92     77.00        38           6   \n",
      "239                Magaria  13.00    8.91     82.49        20           0   \n",
      "315      Icod de los Vinos  28.37  -16.71     75.20        23           3   \n",
      "387                 Agadez  19.75   10.25     75.49        19           0   \n",
      "398               Hengshui  37.73  115.70     73.22        20           0   \n",
      "404                  Bilma  18.69   12.92     81.25        20           4   \n",
      "414                 Marzuq  14.40   46.47     73.67        29           0   \n",
      "\n",
      "     Wind Speed Country        Date  \\\n",
      "58         1.30      ML  1602560268   \n",
      "107        5.82      US  1602560248   \n",
      "196        4.00      AU  1602560302   \n",
      "211        8.05      ES  1602560305   \n",
      "239        7.87      NE  1602560311   \n",
      "315        9.17      ES  1602560327   \n",
      "387        5.77      NE  1602560347   \n",
      "398        8.25      CN  1602560350   \n",
      "404        5.44      NE  1602560351   \n",
      "414        0.89      YE  1602560353   \n",
      "\n",
      "                                     Hotel Name  \n",
      "58                   No Accomodations Available  \n",
      "107                 Best Western Plus Abbey Inn  \n",
      "196     Shellharbour Resort & Conference Centre  \n",
      "211                               Valle Aridane  \n",
      "239                      Chez Honorable Chapiou  \n",
      "315                        Hotel Rural El Patio  \n",
      "387                  No Accomodations Available  \n",
      "398  Eaka Hotel Hengshui Railway Station Branch  \n",
      "404                  Expeditions Ténére voyages  \n",
      "414                  No Accomodations Available  \n"
     ]
    }
   ],
   "source": [
    "finalTable = finalTable.rename(columns={'County' : 'Country'})\n",
    "\n",
    "pp.pprint(finalTable)"
   ]
  },
  {
   "cell_type": "code",
   "execution_count": 52,
   "metadata": {},
   "outputs": [],
   "source": [
    "# NOTE: Do not change any of the code in this cell\n",
    "\n",
    "# Using the template add the hotel marks to the heatmap\n",
    "info_box_template = \"\"\"\n",
    "<dl>\n",
    "<dt>Name</dt><dd>{Hotel Name}</dd>\n",
    "<dt>City</dt><dd>{City}</dd>\n",
    "<dt>Country</dt><dd>{Country}</dd>\n",
    "</dl>\n",
    "\"\"\"\n",
    "# Store the DataFrame Row\n",
    "# NOTE: be sure to update with your DataFrame name\n",
    "hotel_info = [info_box_template.format(**row) for index, row in finalTable.iterrows()]\n",
    "locations = finalTable[[\"Lat\", \"Lon\"]]"
   ]
  },
  {
   "cell_type": "code",
   "execution_count": 53,
   "metadata": {},
   "outputs": [
    {
     "data": {
      "application/vnd.jupyter.widget-view+json": {
       "model_id": "aef4f0f549434180becec61d8f144f4f",
       "version_major": 2,
       "version_minor": 0
      },
      "text/plain": [
       "Figure(layout=FigureLayout(height='420px'))"
      ]
     },
     "metadata": {},
     "output_type": "display_data"
    }
   ],
   "source": [
    "# Add marker layer ontop of heat map\n",
    "fig.add_layer(gmaps.marker_layer(locations, info_box_content=hotel_info))\n",
    "\n",
    "# Display figure\n",
    "fig"
   ]
  },
  {
   "cell_type": "code",
   "execution_count": null,
   "metadata": {},
   "outputs": [],
   "source": []
  }
 ],
 "metadata": {
  "kernelspec": {
   "display_name": "Python 3",
   "language": "python",
   "name": "python3"
  },
  "language_info": {
   "codemirror_mode": {
    "name": "ipython",
    "version": 3
   },
   "file_extension": ".py",
   "mimetype": "text/x-python",
   "name": "python",
   "nbconvert_exporter": "python",
   "pygments_lexer": "ipython3",
   "version": "3.6.5"
  },
  "latex_envs": {
   "LaTeX_envs_menu_present": true,
   "autoclose": false,
   "autocomplete": true,
   "bibliofile": "biblio.bib",
   "cite_by": "apalike",
   "current_citInitial": 1,
   "eqLabelWithNumbers": true,
   "eqNumInitial": 1,
   "hotkeys": {
    "equation": "Ctrl-E",
    "itemize": "Ctrl-I"
   },
   "labels_anchors": false,
   "latex_user_defs": false,
   "report_style_numbering": false,
   "user_envs_cfg": false
  }
 },
 "nbformat": 4,
 "nbformat_minor": 4
}
