{
 "cells": [
  {
   "cell_type": "markdown",
   "metadata": {},
   "source": [
    "# VacationPy\n",
    "----\n",
    "\n",
    "#### Note\n",
    "* Keep an eye on your API usage. Use https://developers.google.com/maps/reporting/gmp-reporting as reference for how to monitor your usage and billing.\n",
    "\n",
    "* Instructions have been included for each segment. You do not have to follow them exactly, but they are included to help you think through the steps."
   ]
  },
  {
   "cell_type": "code",
   "execution_count": 1,
   "metadata": {},
   "outputs": [],
   "source": [
    "# Dependencies and Setup\n",
    "import matplotlib.pyplot as plt\n",
    "import pandas as pd\n",
    "import numpy as np\n",
    "import requests\n",
    "import gmaps\n",
    "import os\n",
    "import json\n",
    "import pprint\n",
    "import scipy.stats as st\n",
    "\n",
    "# Import API key\n",
    "from api_keys import g_key"
   ]
  },
  {
   "cell_type": "markdown",
   "metadata": {},
   "source": [
    "### Store Part I results into DataFrame\n",
    "* Load the csv exported in Part I to a DataFrame"
   ]
  },
  {
   "cell_type": "code",
   "execution_count": 2,
   "metadata": {},
   "outputs": [
    {
     "name": "stdout",
     "output_type": "stream",
     "text": [
      "           City    Lat     Lon  Max Temp  Humidity  Cloudiness  Wind Speed  \\\n",
      "0         Pisco -13.70  -76.22     63.00        82           0       13.87   \n",
      "1        Lompoc  34.64 -120.46     64.99        52           1        6.85   \n",
      "2        Faanui -16.48 -151.75     78.46        80           4       11.86   \n",
      "3  Norman Wells  65.28 -126.83     23.00        67          75        3.36   \n",
      "4  Ponta do Sol  32.67  -17.10     69.80        73          20       16.11   \n",
      "\n",
      "  County        Date  \n",
      "0     PE  1602560253  \n",
      "1     US  1602560096  \n",
      "2     PF  1602560254  \n",
      "3     CA  1602560254  \n",
      "4     PT  1602560254  \n"
     ]
    }
   ],
   "source": [
    "loadPath = '../WeatherPy/weather_data.csv'\n",
    "\n",
    "weatherFrame = pd.read_csv(loadPath)\n",
    "\n",
    "print(weatherFrame.head())"
   ]
  },
  {
   "cell_type": "markdown",
   "metadata": {},
   "source": [
    "### Humidity Heatmap\n",
    "* Configure gmaps.\n",
    "* Use the Lat and Lng as locations and Humidity as the weight.\n",
    "* Add Heatmap layer to map."
   ]
  },
  {
   "cell_type": "code",
   "execution_count": 3,
   "metadata": {},
   "outputs": [
    {
     "name": "stdout",
     "output_type": "stream",
     "text": [
      "     Lat     Lon  Humidity\n",
      "0 -13.70  -76.22        82\n",
      "1  34.64 -120.46        52\n",
      "2 -16.48 -151.75        80\n",
      "3  65.28 -126.83        67\n",
      "4  32.67  -17.10        73\n"
     ]
    }
   ],
   "source": [
    "gmaps.configure(api_key=g_key)\n",
    "\n",
    "humidityFrame = weatherFrame[['Lat', 'Lon', 'Humidity']]\n",
    "\n",
    "locations = humidityFrame[['Lat', 'Lon']]\n",
    "weights = humidityFrame['Humidity']\n",
    "\n",
    "print(humidityFrame.head())"
   ]
  },
  {
   "cell_type": "code",
   "execution_count": 5,
   "metadata": {},
   "outputs": [
    {
     "data": {
      "application/vnd.jupyter.widget-view+json": {
       "model_id": "aef4f0f549434180becec61d8f144f4f",
       "version_major": 2,
       "version_minor": 0
      },
      "text/plain": [
       "Figure(layout=FigureLayout(height='420px'))"
      ]
     },
     "metadata": {},
     "output_type": "display_data"
    }
   ],
   "source": [
    "fig = gmaps.figure()\n",
    "fig.add_layer(gmaps.heatmap_layer(locations, weights=weights))\n",
    "fig"
   ]
  },
  {
   "cell_type": "markdown",
   "metadata": {},
   "source": [
    "### Create new DataFrame fitting weather criteria\n",
    "* Narrow down the cities to fit weather conditions.\n",
    "* Drop any rows will null values."
   ]
  },
  {
   "cell_type": "code",
   "execution_count": 8,
   "metadata": {},
   "outputs": [
    {
     "name": "stdout",
     "output_type": "stream",
     "text": [
      "           City    Lat     Lon  Max Temp  Humidity  Cloudiness  Wind Speed  \\\n",
      "18  New Norfolk -42.78  147.06     63.00        36           3        1.01   \n",
      "32        Korla  41.76   86.15     56.48        34           0        6.87   \n",
      "33   Blackwater -23.58  148.88     84.97        28          34        7.43   \n",
      "58    Taoudenni  22.68   -3.98     82.89        21           0        1.30   \n",
      "61       Chaman  30.92   66.45     56.82        28           0        5.50   \n",
      "\n",
      "   County        Date  \n",
      "18     AU  1602560258  \n",
      "32     CN  1602560262  \n",
      "33     AU  1602560262  \n",
      "58     ML  1602560268  \n",
      "61     PK  1602560269  \n"
     ]
    }
   ],
   "source": [
    "narrowedWeatherData = weatherFrame.loc[(weatherFrame['Humidity'] < 40) & (weatherFrame['Cloudiness'] < 40) & (weatherFrame['Max Temp'] < 85)]\n",
    "\n",
    "print(narrowedWeatherData.head())"
   ]
  },
  {
   "cell_type": "markdown",
   "metadata": {},
   "source": [
    "### Hotel Map\n",
    "* Store into variable named `hotel_df`.\n",
    "* Add a \"Hotel Name\" column to the DataFrame.\n",
    "* Set parameters to search for hotels with 5000 meters.\n",
    "* Hit the Google Places API for each city's coordinates.\n",
    "* Store the first Hotel result into the DataFrame.\n",
    "* Plot markers on top of the heatmap."
   ]
  },
  {
   "cell_type": "code",
   "execution_count": null,
   "metadata": {},
   "outputs": [],
   "source": []
  },
  {
   "cell_type": "code",
   "execution_count": null,
   "metadata": {},
   "outputs": [],
   "source": []
  },
  {
   "cell_type": "code",
   "execution_count": null,
   "metadata": {},
   "outputs": [],
   "source": [
    "# NOTE: Do not change any of the code in this cell\n",
    "\n",
    "# Using the template add the hotel marks to the heatmap\n",
    "info_box_template = \"\"\"\n",
    "<dl>\n",
    "<dt>Name</dt><dd>{Hotel Name}</dd>\n",
    "<dt>City</dt><dd>{City}</dd>\n",
    "<dt>Country</dt><dd>{Country}</dd>\n",
    "</dl>\n",
    "\"\"\"\n",
    "# Store the DataFrame Row\n",
    "# NOTE: be sure to update with your DataFrame name\n",
    "hotel_info = [info_box_template.format(**row) for index, row in hotel_df.iterrows()]\n",
    "locations = hotel_df[[\"Lat\", \"Lng\"]]"
   ]
  },
  {
   "cell_type": "code",
   "execution_count": null,
   "metadata": {},
   "outputs": [],
   "source": [
    "# Add marker layer ontop of heat map\n",
    "\n",
    "\n",
    "# Display figure\n"
   ]
  },
  {
   "cell_type": "code",
   "execution_count": null,
   "metadata": {},
   "outputs": [],
   "source": []
  }
 ],
 "metadata": {
  "kernelspec": {
   "display_name": "Python 3",
   "language": "python",
   "name": "python3"
  },
  "language_info": {
   "codemirror_mode": {
    "name": "ipython",
    "version": 3
   },
   "file_extension": ".py",
   "mimetype": "text/x-python",
   "name": "python",
   "nbconvert_exporter": "python",
   "pygments_lexer": "ipython3",
   "version": "3.6.5"
  },
  "latex_envs": {
   "LaTeX_envs_menu_present": true,
   "autoclose": false,
   "autocomplete": true,
   "bibliofile": "biblio.bib",
   "cite_by": "apalike",
   "current_citInitial": 1,
   "eqLabelWithNumbers": true,
   "eqNumInitial": 1,
   "hotkeys": {
    "equation": "Ctrl-E",
    "itemize": "Ctrl-I"
   },
   "labels_anchors": false,
   "latex_user_defs": false,
   "report_style_numbering": false,
   "user_envs_cfg": false
  }
 },
 "nbformat": 4,
 "nbformat_minor": 4
}
